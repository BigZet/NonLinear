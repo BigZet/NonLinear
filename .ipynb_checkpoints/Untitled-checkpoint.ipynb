{
 "cells": [
  {
   "cell_type": "code",
   "execution_count": null,
   "id": "7f061e00",
   "metadata": {},
   "outputs": [],
   "source": [
    "import scipy.integrate as integr            \n",
    "import numpy as np                          \n",
    "import matplotlib.pyplot as plt\n",
    "from scipy.signal import argrelextrema\n",
    "import pylab\n",
    "\n",
    "colors = [\"#00FFFF\",                # Azure\n",
    "          \"#0000FF\",                # Blue\n",
    "          \"#FF0000\",                # Red\n",
    "          \"#00FF00\",                # Green\n",
    "          \"#D2691E\",                #\n",
    "          \"#AAA662\",\n",
    "          \"#9A0EEA\",\n",
    "          \"#808000\",\n",
    "          \"#FFA500\",\n",
    "          \"#9ACD32\",\n",
    "          \"#ED0DD9\",\n",
    "          \"#FC5A50\",\n",
    "          \"#929591\",\n",
    "          \"#029386\",\n",
    "          \"#C79FEF\",\n",
    "          \"#FAC205\",\n",
    "          \"#6E750E\",\n",
    "          \"#06C2AC\",\n",
    "          \"#CD5C5C\",                # IndianRed\n",
    "          \"#A52A2A\",                # Brown\n",
    "          \"#7B68EE\",                # MediumState_blue\n",
    "          \"#4682B4\",                # SteelBlue\n",
    "          \"#800000\"                # Maroon\n",
    "          ]\n",
    "colors = 10*colors\n",
    "\n",
    "def mesh(x, y):\n",
    "    general = []\n",
    "    for i in range(len(x)):\n",
    "        for j in range(len(y)):\n",
    "            local = []\n",
    "            local.append(x[i])\n",
    "            local.append(y[j])\n",
    "            general.append(local)\n",
    "    return general\n",
    "\n",
    "stat_dpi = 90\n",
    "rect_pics = (7, 7)\n",
    "dynamics_pics = (14, 7)"
   ]
  }
 ],
 "metadata": {
  "kernelspec": {
   "display_name": "Python 3 (ipykernel)",
   "language": "python",
   "name": "python3"
  },
  "language_info": {
   "codemirror_mode": {
    "name": "ipython",
    "version": 3
   },
   "file_extension": ".py",
   "mimetype": "text/x-python",
   "name": "python",
   "nbconvert_exporter": "python",
   "pygments_lexer": "ipython3",
   "version": "3.9.0"
  }
 },
 "nbformat": 4,
 "nbformat_minor": 5
}
